{
 "cells": [
  {
   "cell_type": "markdown",
   "id": "7d4d4308",
   "metadata": {},
   "source": [
    "## IMPORT Library"
   ]
  },
  {
   "cell_type": "code",
   "execution_count": 6,
   "id": "af18e5cb",
   "metadata": {
    "ExecuteTime": {
     "end_time": "2021-12-18T23:35:25.775253Z",
     "start_time": "2021-12-18T23:35:25.772268Z"
    }
   },
   "outputs": [],
   "source": [
    "import pandas as pd\n",
    "import numpy as np\n",
    "import string\n",
    "from nltk.tokenize import word_tokenize\n",
    "from nltk.corpus import stopwords\n",
    "from nltk.stem import PorterStemmer\n",
    "from sklearn.feature_extraction.text import CountVectorizer, TfidfVectorizer\n",
    "from scipy import sparse"
   ]
  },
  {
   "cell_type": "markdown",
   "id": "87514e14",
   "metadata": {},
   "source": [
    "## Preparing"
   ]
  },
  {
   "cell_type": "code",
   "execution_count": 7,
   "id": "fd4dce25",
   "metadata": {
    "ExecuteTime": {
     "end_time": "2021-12-18T23:35:40.515040Z",
     "start_time": "2021-12-18T23:35:26.915740Z"
    }
   },
   "outputs": [
    {
     "name": "stdout",
     "output_type": "stream",
     "text": [
      "enter job description: job code cloud aws dog\n"
     ]
    }
   ],
   "source": [
    "job = input('enter job description: ').split(' ')\n",
    "def get_and_clean_data():\n",
    "    data = pd.read_csv('./sw_dev_usa.csv')\n",
    "    description = data['job_description']\n",
    "    cleaned_description = description.apply(lambda s: s.translate(str.maketrans('', '', string.punctuation + u'\\xa0')))\n",
    "    cleaned_description = cleaned_description.apply(lambda s: s.lower())\n",
    "    cleaned_description = cleaned_description.apply(lambda s: s.translate(str.maketrans(string.whitespace, ' '*len(string.whitespace), '')))\n",
    "    cleaned_description = cleaned_description.drop_duplicates()\n",
    "    return cleaned_description"
   ]
  },
  {
   "cell_type": "code",
   "execution_count": 8,
   "id": "e10393ee",
   "metadata": {
    "ExecuteTime": {
     "end_time": "2021-12-18T23:35:44.521089Z",
     "start_time": "2021-12-18T23:35:41.746201Z"
    }
   },
   "outputs": [
    {
     "data": {
      "text/plain": [
       "0    the chosen sr software developer will be part ...\n",
       "1    position c lead software developer location mi...\n",
       "2    senior software developer hoboken nj starts as...\n",
       "3    our client a multinational publishing and educ...\n",
       "4    position c lead software developer location ph...\n",
       "Name: job_description, dtype: object"
      ]
     },
     "execution_count": 8,
     "metadata": {},
     "output_type": "execute_result"
    }
   ],
   "source": [
    "n = 5\n",
    "cleaned_description = get_and_clean_data()\n",
    "cleaned_description = cleaned_description[:n]\n",
    "cleaned_description.head()"
   ]
  },
  {
   "cell_type": "code",
   "execution_count": 9,
   "id": "217a8b94",
   "metadata": {
    "ExecuteTime": {
     "end_time": "2021-12-18T23:35:45.963549Z",
     "start_time": "2021-12-18T23:35:45.957549Z"
    }
   },
   "outputs": [],
   "source": [
    "def preProcess(s):\n",
    "    ps = PorterStemmer()\n",
    "    s = word_tokenize(s)\n",
    "    stopwords_set = set(stopwords.words())\n",
    "    stop_dict = {s:1 for s in stopwords_set}\n",
    "    s = [w for w in s if w not in stop_dict]\n",
    "    s = [ps.stem(w) for w in s]\n",
    "    s = ' '.join(s)\n",
    "    return s"
   ]
  },
  {
   "cell_type": "code",
   "execution_count": 10,
   "id": "8e253e19",
   "metadata": {
    "ExecuteTime": {
     "end_time": "2021-12-18T23:35:48.615700Z",
     "start_time": "2021-12-18T23:35:48.598697Z"
    }
   },
   "outputs": [],
   "source": [
    "def displayTopFive(df):\n",
    "    df_dict = df.to_dict()\n",
    "    tmp = dict()\n",
    "    for item in df_dict:\n",
    "        tmp[item] = df_dict[item][0]\n",
    "        for ind in df_dict[item]:\n",
    "            tmp[item] += df_dict[item][ind]\n",
    "    return sorted(tmp.items(), key=lambda x: x[1], reverse=True)[:5]"
   ]
  },
  {
   "cell_type": "markdown",
   "id": "a10c8533",
   "metadata": {},
   "source": [
    "## TF Ranking"
   ]
  },
  {
   "cell_type": "code",
   "execution_count": 11,
   "id": "48736cb8",
   "metadata": {
    "ExecuteTime": {
     "end_time": "2021-12-18T23:35:50.040141Z",
     "start_time": "2021-12-18T23:35:49.962141Z"
    }
   },
   "outputs": [
    {
     "name": "stdout",
     "output_type": "stream",
     "text": [
      "[[0 0 0 ... 0 0 0]\n",
      " [0 0 0 ... 0 0 0]\n",
      " [0 0 0 ... 0 0 0]\n",
      " [0 0 0 ... 0 0 0]\n",
      " [0 0 0 ... 0 0 0]]\n"
     ]
    }
   ],
   "source": [
    "vectorizer = CountVectorizer(preprocessor=preProcess, ngram_range=(1, 2))\n",
    "vectorizer.fit_transform(cleaned_description)\n",
    "x = vectorizer.transform(job)\n",
    "print(x.toarray())"
   ]
  },
  {
   "cell_type": "code",
   "execution_count": 12,
   "id": "75cb715e",
   "metadata": {
    "ExecuteTime": {
     "end_time": "2021-12-18T23:35:51.112667Z",
     "start_time": "2021-12-18T23:35:51.105666Z"
    }
   },
   "outputs": [
    {
     "name": "stdout",
     "output_type": "stream",
     "text": [
      "[[0. 0. 0. ... 0. 0. 0.]\n",
      " [0. 0. 0. ... 0. 0. 0.]\n",
      " [0. 0. 0. ... 0. 0. 0.]\n",
      " [0. 0. 0. ... 0. 0. 0.]\n",
      " [0. 0. 0. ... 0. 0. 0.]]\n"
     ]
    }
   ],
   "source": [
    "x.data = np.log10(x.data + 1)\n",
    "print(x.toarray())"
   ]
  },
  {
   "cell_type": "code",
   "execution_count": 13,
   "id": "49e29a77",
   "metadata": {
    "ExecuteTime": {
     "end_time": "2021-12-18T23:35:53.735140Z",
     "start_time": "2021-12-18T23:35:53.703153Z"
    }
   },
   "outputs": [
    {
     "data": {
      "text/html": [
       "<div>\n",
       "<style scoped>\n",
       "    .dataframe tbody tr th:only-of-type {\n",
       "        vertical-align: middle;\n",
       "    }\n",
       "\n",
       "    .dataframe tbody tr th {\n",
       "        vertical-align: top;\n",
       "    }\n",
       "\n",
       "    .dataframe thead th {\n",
       "        text-align: right;\n",
       "    }\n",
       "</style>\n",
       "<table border=\"1\" class=\"dataframe\">\n",
       "  <thead>\n",
       "    <tr style=\"text-align: right;\">\n",
       "      <th></th>\n",
       "      <th>110000</th>\n",
       "      <th>110000 excel</th>\n",
       "      <th>18000</th>\n",
       "      <th>18000 client</th>\n",
       "      <th>1983</th>\n",
       "      <th>1983 aerotek</th>\n",
       "      <th>250</th>\n",
       "      <th>250 nonfranchis</th>\n",
       "      <th>300000</th>\n",
       "      <th>300000 contract</th>\n",
       "      <th>...</th>\n",
       "      <th>year aerotek</th>\n",
       "      <th>year current</th>\n",
       "      <th>year experi</th>\n",
       "      <th>year nodej</th>\n",
       "      <th>year profession</th>\n",
       "      <th>year relev</th>\n",
       "      <th>yield</th>\n",
       "      <th>yield competit</th>\n",
       "      <th>zaur</th>\n",
       "      <th>zaur xml</th>\n",
       "    </tr>\n",
       "  </thead>\n",
       "  <tbody>\n",
       "    <tr>\n",
       "      <th>0</th>\n",
       "      <td>0.0</td>\n",
       "      <td>0.0</td>\n",
       "      <td>0.0</td>\n",
       "      <td>0.0</td>\n",
       "      <td>0.0</td>\n",
       "      <td>0.0</td>\n",
       "      <td>0.0</td>\n",
       "      <td>0.0</td>\n",
       "      <td>0.0</td>\n",
       "      <td>0.0</td>\n",
       "      <td>...</td>\n",
       "      <td>0.0</td>\n",
       "      <td>0.0</td>\n",
       "      <td>0.0</td>\n",
       "      <td>0.0</td>\n",
       "      <td>0.0</td>\n",
       "      <td>0.0</td>\n",
       "      <td>0.0</td>\n",
       "      <td>0.0</td>\n",
       "      <td>0.0</td>\n",
       "      <td>0.0</td>\n",
       "    </tr>\n",
       "    <tr>\n",
       "      <th>1</th>\n",
       "      <td>0.0</td>\n",
       "      <td>0.0</td>\n",
       "      <td>0.0</td>\n",
       "      <td>0.0</td>\n",
       "      <td>0.0</td>\n",
       "      <td>0.0</td>\n",
       "      <td>0.0</td>\n",
       "      <td>0.0</td>\n",
       "      <td>0.0</td>\n",
       "      <td>0.0</td>\n",
       "      <td>...</td>\n",
       "      <td>0.0</td>\n",
       "      <td>0.0</td>\n",
       "      <td>0.0</td>\n",
       "      <td>0.0</td>\n",
       "      <td>0.0</td>\n",
       "      <td>0.0</td>\n",
       "      <td>0.0</td>\n",
       "      <td>0.0</td>\n",
       "      <td>0.0</td>\n",
       "      <td>0.0</td>\n",
       "    </tr>\n",
       "    <tr>\n",
       "      <th>2</th>\n",
       "      <td>0.0</td>\n",
       "      <td>0.0</td>\n",
       "      <td>0.0</td>\n",
       "      <td>0.0</td>\n",
       "      <td>0.0</td>\n",
       "      <td>0.0</td>\n",
       "      <td>0.0</td>\n",
       "      <td>0.0</td>\n",
       "      <td>0.0</td>\n",
       "      <td>0.0</td>\n",
       "      <td>...</td>\n",
       "      <td>0.0</td>\n",
       "      <td>0.0</td>\n",
       "      <td>0.0</td>\n",
       "      <td>0.0</td>\n",
       "      <td>0.0</td>\n",
       "      <td>0.0</td>\n",
       "      <td>0.0</td>\n",
       "      <td>0.0</td>\n",
       "      <td>0.0</td>\n",
       "      <td>0.0</td>\n",
       "    </tr>\n",
       "    <tr>\n",
       "      <th>3</th>\n",
       "      <td>0.0</td>\n",
       "      <td>0.0</td>\n",
       "      <td>0.0</td>\n",
       "      <td>0.0</td>\n",
       "      <td>0.0</td>\n",
       "      <td>0.0</td>\n",
       "      <td>0.0</td>\n",
       "      <td>0.0</td>\n",
       "      <td>0.0</td>\n",
       "      <td>0.0</td>\n",
       "      <td>...</td>\n",
       "      <td>0.0</td>\n",
       "      <td>0.0</td>\n",
       "      <td>0.0</td>\n",
       "      <td>0.0</td>\n",
       "      <td>0.0</td>\n",
       "      <td>0.0</td>\n",
       "      <td>0.0</td>\n",
       "      <td>0.0</td>\n",
       "      <td>0.0</td>\n",
       "      <td>0.0</td>\n",
       "    </tr>\n",
       "    <tr>\n",
       "      <th>4</th>\n",
       "      <td>0.0</td>\n",
       "      <td>0.0</td>\n",
       "      <td>0.0</td>\n",
       "      <td>0.0</td>\n",
       "      <td>0.0</td>\n",
       "      <td>0.0</td>\n",
       "      <td>0.0</td>\n",
       "      <td>0.0</td>\n",
       "      <td>0.0</td>\n",
       "      <td>0.0</td>\n",
       "      <td>...</td>\n",
       "      <td>0.0</td>\n",
       "      <td>0.0</td>\n",
       "      <td>0.0</td>\n",
       "      <td>0.0</td>\n",
       "      <td>0.0</td>\n",
       "      <td>0.0</td>\n",
       "      <td>0.0</td>\n",
       "      <td>0.0</td>\n",
       "      <td>0.0</td>\n",
       "      <td>0.0</td>\n",
       "    </tr>\n",
       "  </tbody>\n",
       "</table>\n",
       "<p>5 rows × 1120 columns</p>\n",
       "</div>"
      ],
      "text/plain": [
       "   110000  110000 excel  18000  18000 client  1983  1983 aerotek  250  \\\n",
       "0     0.0           0.0    0.0           0.0   0.0           0.0  0.0   \n",
       "1     0.0           0.0    0.0           0.0   0.0           0.0  0.0   \n",
       "2     0.0           0.0    0.0           0.0   0.0           0.0  0.0   \n",
       "3     0.0           0.0    0.0           0.0   0.0           0.0  0.0   \n",
       "4     0.0           0.0    0.0           0.0   0.0           0.0  0.0   \n",
       "\n",
       "   250 nonfranchis  300000  300000 contract  ...  year aerotek  year current  \\\n",
       "0              0.0     0.0              0.0  ...           0.0           0.0   \n",
       "1              0.0     0.0              0.0  ...           0.0           0.0   \n",
       "2              0.0     0.0              0.0  ...           0.0           0.0   \n",
       "3              0.0     0.0              0.0  ...           0.0           0.0   \n",
       "4              0.0     0.0              0.0  ...           0.0           0.0   \n",
       "\n",
       "   year experi  year nodej  year profession  year relev  yield  \\\n",
       "0          0.0         0.0              0.0         0.0    0.0   \n",
       "1          0.0         0.0              0.0         0.0    0.0   \n",
       "2          0.0         0.0              0.0         0.0    0.0   \n",
       "3          0.0         0.0              0.0         0.0    0.0   \n",
       "4          0.0         0.0              0.0         0.0    0.0   \n",
       "\n",
       "   yield competit  zaur  zaur xml  \n",
       "0             0.0   0.0       0.0  \n",
       "1             0.0   0.0       0.0  \n",
       "2             0.0   0.0       0.0  \n",
       "3             0.0   0.0       0.0  \n",
       "4             0.0   0.0       0.0  \n",
       "\n",
       "[5 rows x 1120 columns]"
      ]
     },
     "execution_count": 13,
     "metadata": {},
     "output_type": "execute_result"
    }
   ],
   "source": [
    "tf = pd.DataFrame(x.toarray(), columns=vectorizer.get_feature_names())\n",
    "tf.head()"
   ]
  },
  {
   "cell_type": "code",
   "execution_count": 14,
   "id": "ca049b4d",
   "metadata": {
    "ExecuteTime": {
     "end_time": "2021-12-18T23:35:56.621205Z",
     "start_time": "2021-12-18T23:35:56.596991Z"
    }
   },
   "outputs": [
    {
     "data": {
      "text/plain": [
       "[('job', 0.6020599913279624),\n",
       " ('aw', 0.3010299956639812),\n",
       " ('code', 0.3010299956639812),\n",
       " ('110000', 0.0),\n",
       " ('110000 excel', 0.0)]"
      ]
     },
     "execution_count": 14,
     "metadata": {},
     "output_type": "execute_result"
    }
   ],
   "source": [
    "displayTopFive(tf)"
   ]
  },
  {
   "cell_type": "markdown",
   "id": "bc9f2fe4",
   "metadata": {},
   "source": [
    "## TF-IDF"
   ]
  },
  {
   "cell_type": "code",
   "execution_count": 15,
   "id": "2b7755fe",
   "metadata": {
    "ExecuteTime": {
     "end_time": "2021-12-18T23:36:09.347376Z",
     "start_time": "2021-12-18T23:36:09.269375Z"
    }
   },
   "outputs": [
    {
     "name": "stderr",
     "output_type": "stream",
     "text": [
      "C:\\Users\\tkice\\AppData\\Local\\Temp/ipykernel_3884/2476094420.py:3: RuntimeWarning: divide by zero encountered in true_divide\n",
      "  idf = n / (x.tocoo() > 0).sum(0)\n"
     ]
    },
    {
     "data": {
      "text/plain": [
       "array([[0., 0., 0., ..., 0., 0., 0.],\n",
       "       [0., 0., 0., ..., 0., 0., 0.],\n",
       "       [0., 0., 0., ..., 0., 0., 0.],\n",
       "       [0., 0., 0., ..., 0., 0., 0.],\n",
       "       [0., 0., 0., ..., 0., 0., 0.]])"
      ]
     },
     "execution_count": 15,
     "metadata": {},
     "output_type": "execute_result"
    }
   ],
   "source": [
    "vectorizer.fit(cleaned_description)\n",
    "x = vectorizer.transform(job)\n",
    "idf = n / (x.tocoo() > 0).sum(0)\n",
    "x.data = np.log10(x.data + 1)\n",
    "x.data = x.multiply(np.log10(idf))\n",
    "x.data.toarray()"
   ]
  },
  {
   "cell_type": "code",
   "execution_count": 16,
   "id": "4937d3d6",
   "metadata": {
    "ExecuteTime": {
     "end_time": "2021-12-18T23:36:10.821416Z",
     "start_time": "2021-12-18T23:36:10.796416Z"
    }
   },
   "outputs": [
    {
     "data": {
      "text/html": [
       "<div>\n",
       "<style scoped>\n",
       "    .dataframe tbody tr th:only-of-type {\n",
       "        vertical-align: middle;\n",
       "    }\n",
       "\n",
       "    .dataframe tbody tr th {\n",
       "        vertical-align: top;\n",
       "    }\n",
       "\n",
       "    .dataframe thead th {\n",
       "        text-align: right;\n",
       "    }\n",
       "</style>\n",
       "<table border=\"1\" class=\"dataframe\">\n",
       "  <thead>\n",
       "    <tr style=\"text-align: right;\">\n",
       "      <th></th>\n",
       "      <th>110000</th>\n",
       "      <th>110000 excel</th>\n",
       "      <th>18000</th>\n",
       "      <th>18000 client</th>\n",
       "      <th>1983</th>\n",
       "      <th>1983 aerotek</th>\n",
       "      <th>250</th>\n",
       "      <th>250 nonfranchis</th>\n",
       "      <th>300000</th>\n",
       "      <th>300000 contract</th>\n",
       "      <th>...</th>\n",
       "      <th>year aerotek</th>\n",
       "      <th>year current</th>\n",
       "      <th>year experi</th>\n",
       "      <th>year nodej</th>\n",
       "      <th>year profession</th>\n",
       "      <th>year relev</th>\n",
       "      <th>yield</th>\n",
       "      <th>yield competit</th>\n",
       "      <th>zaur</th>\n",
       "      <th>zaur xml</th>\n",
       "    </tr>\n",
       "  </thead>\n",
       "  <tbody>\n",
       "    <tr>\n",
       "      <th>0</th>\n",
       "      <td>0.0</td>\n",
       "      <td>0.0</td>\n",
       "      <td>0.0</td>\n",
       "      <td>0.0</td>\n",
       "      <td>0.0</td>\n",
       "      <td>0.0</td>\n",
       "      <td>0.0</td>\n",
       "      <td>0.0</td>\n",
       "      <td>0.0</td>\n",
       "      <td>0.0</td>\n",
       "      <td>...</td>\n",
       "      <td>0.0</td>\n",
       "      <td>0.0</td>\n",
       "      <td>0.0</td>\n",
       "      <td>0.0</td>\n",
       "      <td>0.0</td>\n",
       "      <td>0.0</td>\n",
       "      <td>0.0</td>\n",
       "      <td>0.0</td>\n",
       "      <td>0.0</td>\n",
       "      <td>0.0</td>\n",
       "    </tr>\n",
       "    <tr>\n",
       "      <th>1</th>\n",
       "      <td>0.0</td>\n",
       "      <td>0.0</td>\n",
       "      <td>0.0</td>\n",
       "      <td>0.0</td>\n",
       "      <td>0.0</td>\n",
       "      <td>0.0</td>\n",
       "      <td>0.0</td>\n",
       "      <td>0.0</td>\n",
       "      <td>0.0</td>\n",
       "      <td>0.0</td>\n",
       "      <td>...</td>\n",
       "      <td>0.0</td>\n",
       "      <td>0.0</td>\n",
       "      <td>0.0</td>\n",
       "      <td>0.0</td>\n",
       "      <td>0.0</td>\n",
       "      <td>0.0</td>\n",
       "      <td>0.0</td>\n",
       "      <td>0.0</td>\n",
       "      <td>0.0</td>\n",
       "      <td>0.0</td>\n",
       "    </tr>\n",
       "    <tr>\n",
       "      <th>2</th>\n",
       "      <td>0.0</td>\n",
       "      <td>0.0</td>\n",
       "      <td>0.0</td>\n",
       "      <td>0.0</td>\n",
       "      <td>0.0</td>\n",
       "      <td>0.0</td>\n",
       "      <td>0.0</td>\n",
       "      <td>0.0</td>\n",
       "      <td>0.0</td>\n",
       "      <td>0.0</td>\n",
       "      <td>...</td>\n",
       "      <td>0.0</td>\n",
       "      <td>0.0</td>\n",
       "      <td>0.0</td>\n",
       "      <td>0.0</td>\n",
       "      <td>0.0</td>\n",
       "      <td>0.0</td>\n",
       "      <td>0.0</td>\n",
       "      <td>0.0</td>\n",
       "      <td>0.0</td>\n",
       "      <td>0.0</td>\n",
       "    </tr>\n",
       "    <tr>\n",
       "      <th>3</th>\n",
       "      <td>0.0</td>\n",
       "      <td>0.0</td>\n",
       "      <td>0.0</td>\n",
       "      <td>0.0</td>\n",
       "      <td>0.0</td>\n",
       "      <td>0.0</td>\n",
       "      <td>0.0</td>\n",
       "      <td>0.0</td>\n",
       "      <td>0.0</td>\n",
       "      <td>0.0</td>\n",
       "      <td>...</td>\n",
       "      <td>0.0</td>\n",
       "      <td>0.0</td>\n",
       "      <td>0.0</td>\n",
       "      <td>0.0</td>\n",
       "      <td>0.0</td>\n",
       "      <td>0.0</td>\n",
       "      <td>0.0</td>\n",
       "      <td>0.0</td>\n",
       "      <td>0.0</td>\n",
       "      <td>0.0</td>\n",
       "    </tr>\n",
       "    <tr>\n",
       "      <th>4</th>\n",
       "      <td>0.0</td>\n",
       "      <td>0.0</td>\n",
       "      <td>0.0</td>\n",
       "      <td>0.0</td>\n",
       "      <td>0.0</td>\n",
       "      <td>0.0</td>\n",
       "      <td>0.0</td>\n",
       "      <td>0.0</td>\n",
       "      <td>0.0</td>\n",
       "      <td>0.0</td>\n",
       "      <td>...</td>\n",
       "      <td>0.0</td>\n",
       "      <td>0.0</td>\n",
       "      <td>0.0</td>\n",
       "      <td>0.0</td>\n",
       "      <td>0.0</td>\n",
       "      <td>0.0</td>\n",
       "      <td>0.0</td>\n",
       "      <td>0.0</td>\n",
       "      <td>0.0</td>\n",
       "      <td>0.0</td>\n",
       "    </tr>\n",
       "  </tbody>\n",
       "</table>\n",
       "<p>5 rows × 1120 columns</p>\n",
       "</div>"
      ],
      "text/plain": [
       "   110000  110000 excel  18000  18000 client  1983  1983 aerotek  250  \\\n",
       "0     0.0           0.0    0.0           0.0   0.0           0.0  0.0   \n",
       "1     0.0           0.0    0.0           0.0   0.0           0.0  0.0   \n",
       "2     0.0           0.0    0.0           0.0   0.0           0.0  0.0   \n",
       "3     0.0           0.0    0.0           0.0   0.0           0.0  0.0   \n",
       "4     0.0           0.0    0.0           0.0   0.0           0.0  0.0   \n",
       "\n",
       "   250 nonfranchis  300000  300000 contract  ...  year aerotek  year current  \\\n",
       "0              0.0     0.0              0.0  ...           0.0           0.0   \n",
       "1              0.0     0.0              0.0  ...           0.0           0.0   \n",
       "2              0.0     0.0              0.0  ...           0.0           0.0   \n",
       "3              0.0     0.0              0.0  ...           0.0           0.0   \n",
       "4              0.0     0.0              0.0  ...           0.0           0.0   \n",
       "\n",
       "   year experi  year nodej  year profession  year relev  yield  \\\n",
       "0          0.0         0.0              0.0         0.0    0.0   \n",
       "1          0.0         0.0              0.0         0.0    0.0   \n",
       "2          0.0         0.0              0.0         0.0    0.0   \n",
       "3          0.0         0.0              0.0         0.0    0.0   \n",
       "4          0.0         0.0              0.0         0.0    0.0   \n",
       "\n",
       "   yield competit  zaur  zaur xml  \n",
       "0             0.0   0.0       0.0  \n",
       "1             0.0   0.0       0.0  \n",
       "2             0.0   0.0       0.0  \n",
       "3             0.0   0.0       0.0  \n",
       "4             0.0   0.0       0.0  \n",
       "\n",
       "[5 rows x 1120 columns]"
      ]
     },
     "execution_count": 16,
     "metadata": {},
     "output_type": "execute_result"
    }
   ],
   "source": [
    "tfidf = pd.DataFrame(x.data.toarray(), columns=vectorizer.get_feature_names())\n",
    "tfidf.head()"
   ]
  },
  {
   "cell_type": "code",
   "execution_count": 17,
   "id": "d680daaf",
   "metadata": {
    "ExecuteTime": {
     "end_time": "2021-12-18T23:36:11.598216Z",
     "start_time": "2021-12-18T23:36:11.586206Z"
    }
   },
   "outputs": [
    {
     "data": {
      "text/plain": [
       "[('job', 0.42082187474904936),\n",
       " ('aw', 0.21041093737452468),\n",
       " ('code', 0.21041093737452468),\n",
       " ('110000', 0.0),\n",
       " ('110000 excel', 0.0)]"
      ]
     },
     "execution_count": 17,
     "metadata": {},
     "output_type": "execute_result"
    }
   ],
   "source": [
    "displayTopFive(tfidf)"
   ]
  },
  {
   "cell_type": "markdown",
   "id": "960c3357",
   "metadata": {},
   "source": [
    "## BM25"
   ]
  },
  {
   "cell_type": "code",
   "execution_count": 18,
   "id": "a24ab19c",
   "metadata": {
    "ExecuteTime": {
     "end_time": "2021-12-18T23:36:18.841443Z",
     "start_time": "2021-12-18T23:36:18.832442Z"
    }
   },
   "outputs": [],
   "source": [
    "class BM25(object):\n",
    "    def __init__(self, b=0.75, k1=1.6):\n",
    "        self.vectorizer = TfidfVectorizer(norm=None, smooth_idf=False)\n",
    "        self.b = b\n",
    "        self.k1 = k1\n",
    "\n",
    "    def fit(self, X):\n",
    "        \"\"\" Fit IDF to documents X \"\"\"\n",
    "        self.vectorizer.fit(X)\n",
    "        y = super(TfidfVectorizer, self.vectorizer).transform(X)\n",
    "        self.avdl = y.sum(1).mean()\n",
    "\n",
    "    def transform(self, q, X):\n",
    "        \"\"\" Calculate BM25 between query q and documents X \"\"\"\n",
    "        b, k1, avdl = self.b, self.k1, self.avdl\n",
    "\n",
    "        # apply CountVectorizer\n",
    "        X = super(TfidfVectorizer, self.vectorizer).transform(X)\n",
    "        len_X = X.sum(1).A1\n",
    "        q, = super(TfidfVectorizer, self.vectorizer).transform([q])\n",
    "        assert sparse.isspmatrix_csr(q)\n",
    "\n",
    "        # convert to csc for better column slicing\n",
    "        X = X.tocsc()[:, q.indices]\n",
    "        denom = X + (k1 * (1 - b + b * len_X / avdl))[:, None]\n",
    "        # idf(t) = log [ n / df(t) ] + 1 in sklearn, so it need to be coneverted\n",
    "        # to idf(t) = log [ n / df(t) ] with minus 1\n",
    "        idf = self.vectorizer._tfidf.idf_[None, q.indices] - 1.\n",
    "        numer = X.multiply(np.broadcast_to(idf, X.shape)) * (k1 + 1)                                                          \n",
    "        return (numer / denom).sum(1).A1"
   ]
  },
  {
   "cell_type": "code",
   "execution_count": 19,
   "id": "bfd1d031",
   "metadata": {
    "ExecuteTime": {
     "end_time": "2021-12-18T23:37:03.396867Z",
     "start_time": "2021-12-18T23:37:03.385867Z"
    }
   },
   "outputs": [
    {
     "data": {
      "text/plain": [
       "array([0., 0., 0., 0., 0.])"
      ]
     },
     "execution_count": 19,
     "metadata": {},
     "output_type": "execute_result"
    }
   ],
   "source": [
    "bm25 = BM25()\n",
    "bm25.fit(cleaned_description)\n",
    "bm25.transform(''.join(w for w in job), cleaned_description)"
   ]
  }
 ],
 "metadata": {
  "kernelspec": {
   "display_name": "starter",
   "language": "python",
   "name": "starter"
  },
  "language_info": {
   "codemirror_mode": {
    "name": "ipython",
    "version": 3
   },
   "file_extension": ".py",
   "mimetype": "text/x-python",
   "name": "python",
   "nbconvert_exporter": "python",
   "pygments_lexer": "ipython3",
   "version": "3.9.7"
  },
  "nbTranslate": {
   "displayLangs": [
    "*"
   ],
   "hotkey": "alt-t",
   "langInMainMenu": true,
   "sourceLang": "en",
   "targetLang": "fr",
   "useGoogleTranslate": true
  },
  "toc": {
   "base_numbering": 1,
   "nav_menu": {},
   "number_sections": true,
   "sideBar": true,
   "skip_h1_title": false,
   "title_cell": "Table of Contents",
   "title_sidebar": "Contents",
   "toc_cell": false,
   "toc_position": {},
   "toc_section_display": true,
   "toc_window_display": false
  },
  "varInspector": {
   "cols": {
    "lenName": 16,
    "lenType": 16,
    "lenVar": 40
   },
   "kernels_config": {
    "python": {
     "delete_cmd_postfix": "",
     "delete_cmd_prefix": "del ",
     "library": "var_list.py",
     "varRefreshCmd": "print(var_dic_list())"
    },
    "r": {
     "delete_cmd_postfix": ") ",
     "delete_cmd_prefix": "rm(",
     "library": "var_list.r",
     "varRefreshCmd": "cat(var_dic_list()) "
    }
   },
   "position": {
    "height": "524.844px",
    "left": "1236px",
    "right": "20px",
    "top": "120px",
    "width": "664px"
   },
   "types_to_exclude": [
    "module",
    "function",
    "builtin_function_or_method",
    "instance",
    "_Feature"
   ],
   "window_display": false
  }
 },
 "nbformat": 4,
 "nbformat_minor": 5
}
